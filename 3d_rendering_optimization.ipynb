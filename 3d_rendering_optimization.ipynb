{
  "metadata": {
    "kernelspec": {
      "language": "python",
      "display_name": "Python 3",
      "name": "python3"
    },
    "language_info": {
      "name": "python",
      "version": "3.10.13",
      "mimetype": "text/x-python",
      "codemirror_mode": {
        "name": "ipython",
        "version": 3
      },
      "pygments_lexer": "ipython3",
      "nbconvert_exporter": "python",
      "file_extension": ".py"
    },
    "kaggle": {
      "accelerator": "none",
      "dataSources": [
        {
          "sourceId": 9034456,
          "sourceType": "datasetVersion",
          "datasetId": 5445764
        },
        {
          "sourceId": 9034624,
          "sourceType": "datasetVersion",
          "datasetId": 5445896
        }
      ],
      "dockerImageVersionId": 30746,
      "isInternetEnabled": true,
      "language": "python",
      "sourceType": "notebook",
      "isGpuEnabled": false
    },
    "colab": {
      "provenance": [],
      "include_colab_link": true
    }
  },
  "nbformat_minor": 0,
  "nbformat": 4,
  "cells": [
    {
      "cell_type": "markdown",
      "metadata": {
        "id": "view-in-github",
        "colab_type": "text"
      },
      "source": [
        "<a href=\"https://colab.research.google.com/github/umututku03/3D-Rendering-Optimization/blob/main/3d_rendering_optimization.ipynb\" target=\"_parent\"><img src=\"https://colab.research.google.com/assets/colab-badge.svg\" alt=\"Open In Colab\"/></a>"
      ]
    },
    {
      "cell_type": "code",
      "source": [
        "import os\n",
        "import shutil\n",
        "import numpy as np\n",
        "from PIL import Image, ImageDraw\n",
        "import torch\n",
        "from torch import nn, optim\n",
        "from math import sin, cos, radians\n",
        "import matplotlib.pyplot as plt"
      ],
      "metadata": {
        "_uuid": "8f2839f25d086af736a60e9eeb907d3b93b6e0e5",
        "_cell_guid": "b1076dfc-b9ad-4769-8c92-a6c4dae69d19",
        "execution": {
          "iopub.status.busy": "2024-07-25T18:21:05.960966Z",
          "iopub.execute_input": "2024-07-25T18:21:05.961436Z",
          "iopub.status.idle": "2024-07-25T18:21:05.970007Z",
          "shell.execute_reply.started": "2024-07-25T18:21:05.961404Z",
          "shell.execute_reply": "2024-07-25T18:21:05.968782Z"
        },
        "trusted": true,
        "id": "aOkxVdbEImOp"
      },
      "execution_count": null,
      "outputs": []
    },
    {
      "cell_type": "code",
      "source": [
        "# Ensure reproducibility\n",
        "torch.manual_seed(14)\n",
        "np.random.seed(14)"
      ],
      "metadata": {
        "execution": {
          "iopub.status.busy": "2024-07-25T18:21:07.364353Z",
          "iopub.execute_input": "2024-07-25T18:21:07.364760Z",
          "iopub.status.idle": "2024-07-25T18:21:07.372494Z",
          "shell.execute_reply.started": "2024-07-25T18:21:07.364729Z",
          "shell.execute_reply": "2024-07-25T18:21:07.371478Z"
        },
        "trusted": true,
        "id": "khaYTpPeImOt"
      },
      "execution_count": null,
      "outputs": []
    },
    {
      "cell_type": "code",
      "source": [
        "# Define the cube vertices and edges\n",
        "cube_vertices = np.array([\n",
        "    [1, 1, -1], [-1, 1, -1], [-1, -1, -1], [1, -1, -1],\n",
        "    [1, 1, 1], [-1, 1, 1], [-1, -1, 1], [1, -1, 1]\n",
        "])\n",
        "\n",
        "cube_edges = [\n",
        "    (0, 1), (1, 2), (2, 3), (3, 0),\n",
        "    (4, 5), (5, 6), (6, 7), (7, 4),\n",
        "    (0, 4), (1, 5), (2, 6), (3, 7)\n",
        "]"
      ],
      "metadata": {
        "execution": {
          "iopub.status.busy": "2024-07-25T18:21:08.463520Z",
          "iopub.execute_input": "2024-07-25T18:21:08.463952Z",
          "iopub.status.idle": "2024-07-25T18:21:08.472692Z",
          "shell.execute_reply.started": "2024-07-25T18:21:08.463912Z",
          "shell.execute_reply": "2024-07-25T18:21:08.471397Z"
        },
        "trusted": true,
        "id": "ltDA9VjnImOt"
      },
      "execution_count": null,
      "outputs": []
    },
    {
      "cell_type": "code",
      "source": [
        "class LookAt(nn.Module):\n",
        "    def __init__(self):\n",
        "        super(LookAt, self).__init__()\n",
        "\n",
        "    def forward(self, from_pos, to_pos, up):\n",
        "        forward = from_pos - to_pos\n",
        "        forward = forward / torch.norm(forward)\n",
        "        right = torch.cross(up, forward)\n",
        "        right = right / torch.norm(right)\n",
        "        up = torch.cross(forward, right)\n",
        "        view_matrix = torch.eye(4)\n",
        "        view_matrix[0, :3] = right\n",
        "        view_matrix[1, :3] = up\n",
        "        view_matrix[2, :3] = forward\n",
        "        view_matrix[:3, 3] = -torch.matmul(view_matrix[:3, :3], from_pos.unsqueeze(1)).squeeze()\n",
        "        return view_matrix"
      ],
      "metadata": {
        "execution": {
          "iopub.status.busy": "2024-07-25T18:21:10.238515Z",
          "iopub.execute_input": "2024-07-25T18:21:10.239041Z",
          "iopub.status.idle": "2024-07-25T18:21:10.248736Z",
          "shell.execute_reply.started": "2024-07-25T18:21:10.238989Z",
          "shell.execute_reply": "2024-07-25T18:21:10.247432Z"
        },
        "trusted": true,
        "id": "ZcH--C40ImOu"
      },
      "execution_count": null,
      "outputs": []
    },
    {
      "cell_type": "code",
      "source": [
        "class ProjectVertex(nn.Module):\n",
        "    def __init__(self, projection_matrix):\n",
        "        super(ProjectVertex, self).__init__()\n",
        "        self.projection_matrix = projection_matrix\n",
        "\n",
        "    def forward(self, vertex, view_matrix):\n",
        "        vertex_homogeneous = torch.cat((vertex, torch.ones(1)), dim=0)\n",
        "        transformed_vertex = view_matrix @ vertex_homogeneous\n",
        "        projected_vertex = self.projection_matrix @ transformed_vertex\n",
        "        projected_vertex = projected_vertex[:2] / projected_vertex[3]\n",
        "        return projected_vertex"
      ],
      "metadata": {
        "execution": {
          "iopub.status.busy": "2024-07-25T18:21:11.886092Z",
          "iopub.execute_input": "2024-07-25T18:21:11.887231Z",
          "iopub.status.idle": "2024-07-25T18:21:11.897752Z",
          "shell.execute_reply.started": "2024-07-25T18:21:11.887161Z",
          "shell.execute_reply": "2024-07-25T18:21:11.896496Z"
        },
        "trusted": true,
        "id": "GADxw6PyImOu"
      },
      "execution_count": null,
      "outputs": []
    },
    {
      "cell_type": "code",
      "source": [
        "# Initial camera setup\n",
        "target_pos = torch.tensor([0.0, 0.0, 0.0], dtype=torch.float32)\n",
        "up_vector = torch.tensor([0.0, 1.0, 0.0], dtype=torch.float32)\n",
        "\n",
        "# Projection matrix setup (assuming perspective projection)\n",
        "fov = 60  # Field of view in degrees\n",
        "aspect_ratio = 1.0  # Aspect ratio\n",
        "near = 1.0  # Near clipping plane\n",
        "far = 100.0  # Far clipping plane\n",
        "fov_rad = np.radians(fov)\n",
        "f = 1 / np.tan(fov_rad / 2)\n",
        "projection_matrix = torch.tensor([\n",
        "    [f / aspect_ratio, 0, 0, 0],\n",
        "    [0, f, 0, 0],\n",
        "    [0, 0, (far + near) / (near - far), (2 * far * near) / (near - far)],\n",
        "    [0, 0, -1, 0]\n",
        "], dtype=torch.float32)"
      ],
      "metadata": {
        "execution": {
          "iopub.status.busy": "2024-07-25T18:21:13.596038Z",
          "iopub.execute_input": "2024-07-25T18:21:13.597442Z",
          "iopub.status.idle": "2024-07-25T18:21:13.628528Z",
          "shell.execute_reply.started": "2024-07-25T18:21:13.597381Z",
          "shell.execute_reply": "2024-07-25T18:21:13.627119Z"
        },
        "trusted": true,
        "id": "0uxdBypJImOv"
      },
      "execution_count": null,
      "outputs": []
    },
    {
      "cell_type": "code",
      "source": [
        "look_at = LookAt()\n",
        "project_vertex = ProjectVertex(projection_matrix)"
      ],
      "metadata": {
        "execution": {
          "iopub.status.busy": "2024-07-25T18:21:15.257230Z",
          "iopub.execute_input": "2024-07-25T18:21:15.257658Z",
          "iopub.status.idle": "2024-07-25T18:21:15.263482Z",
          "shell.execute_reply.started": "2024-07-25T18:21:15.257627Z",
          "shell.execute_reply": "2024-07-25T18:21:15.262094Z"
        },
        "trusted": true,
        "id": "2qxNFzDfImOv"
      },
      "execution_count": null,
      "outputs": []
    },
    {
      "cell_type": "code",
      "source": [
        "# Load the saved 2D points and camera extrinsics from the previous NumPy rendering process\n",
        "num_steps = 100\n",
        "extrinsic_dir = \"/kaggle/input/3d-rendering-engine-numpy-params/extrinsics\"\n",
        "points_dir = \"/kaggle/input/3d-rendering-computed-2d-points-gt/computed_2d_points\"\n",
        "\n",
        "numpy_extrinsics = [torch.tensor(np.loadtxt(os.path.join(extrinsic_dir, f\"extrinsic_{step}.txt\")), dtype=torch.float32) for step in range(num_steps)]\n",
        "numpy_2d_points = [torch.tensor(np.loadtxt(os.path.join(points_dir, f\"points_{step}.txt\")), dtype=torch.float32) for step in range(num_steps)]"
      ],
      "metadata": {
        "execution": {
          "iopub.status.busy": "2024-07-25T18:21:16.426342Z",
          "iopub.execute_input": "2024-07-25T18:21:16.426878Z",
          "iopub.status.idle": "2024-07-25T18:21:17.129938Z",
          "shell.execute_reply.started": "2024-07-25T18:21:16.426835Z",
          "shell.execute_reply": "2024-07-25T18:21:17.128544Z"
        },
        "trusted": true,
        "id": "2lpQfVMQImOw"
      },
      "execution_count": null,
      "outputs": []
    },
    {
      "cell_type": "code",
      "source": [
        "# Parameters to optimize\n",
        "camera_pos = torch.tensor([7.0, 1.0, 1.0], dtype=torch.float32, requires_grad=True)\n",
        "target_pos = torch.tensor([0.0, 0.0, 0.0], dtype=torch.float32, requires_grad=True)"
      ],
      "metadata": {
        "execution": {
          "iopub.status.busy": "2024-07-25T18:21:19.022839Z",
          "iopub.execute_input": "2024-07-25T18:21:19.023315Z",
          "iopub.status.idle": "2024-07-25T18:21:19.030237Z",
          "shell.execute_reply.started": "2024-07-25T18:21:19.023280Z",
          "shell.execute_reply": "2024-07-25T18:21:19.028801Z"
        },
        "trusted": true,
        "id": "n8Wt6TFTImOw"
      },
      "execution_count": null,
      "outputs": []
    },
    {
      "cell_type": "code",
      "source": [
        "# Optimizer\n",
        "optimizer = optim.Adam([camera_pos, target_pos], lr=0.01)"
      ],
      "metadata": {
        "execution": {
          "iopub.status.busy": "2024-07-25T18:21:22.486667Z",
          "iopub.execute_input": "2024-07-25T18:21:22.487087Z",
          "iopub.status.idle": "2024-07-25T18:21:24.150832Z",
          "shell.execute_reply.started": "2024-07-25T18:21:22.487057Z",
          "shell.execute_reply": "2024-07-25T18:21:24.149625Z"
        },
        "trusted": true,
        "id": "hYPXbrH5ImOw"
      },
      "execution_count": null,
      "outputs": []
    },
    {
      "cell_type": "code",
      "source": [
        "# Loss function\n",
        "mse_loss = nn.MSELoss()"
      ],
      "metadata": {
        "execution": {
          "iopub.status.busy": "2024-07-25T18:21:26.607838Z",
          "iopub.execute_input": "2024-07-25T18:21:26.609117Z",
          "iopub.status.idle": "2024-07-25T18:21:26.613907Z",
          "shell.execute_reply.started": "2024-07-25T18:21:26.609073Z",
          "shell.execute_reply": "2024-07-25T18:21:26.612767Z"
        },
        "trusted": true,
        "id": "eO0twjPHImOx"
      },
      "execution_count": null,
      "outputs": []
    },
    {
      "cell_type": "code",
      "source": [
        "# Gradient descent optimization loop\n",
        "num_iterations = 1000\n",
        "for iteration in range(num_iterations):\n",
        "    total_loss = 0\n",
        "    for step in range(num_steps):\n",
        "        alpha = step * 2 * np.pi / num_steps\n",
        "        camera_pos = torch.tensor([\n",
        "            target_pos[0] + 5 * cos(alpha),\n",
        "            target_pos[1] - 3.5,\n",
        "            target_pos[2] + 5 * sin(alpha)\n",
        "        ], dtype=torch.float32, requires_grad=True)\n",
        "\n",
        "        view_matrix = look_at(camera_pos, target_pos, up_vector)\n",
        "        projected_points = []\n",
        "        for vertex in cube_vertices:\n",
        "            v = torch.tensor(vertex, dtype=torch.float32)\n",
        "            p = project_vertex(v, view_matrix)\n",
        "            p = (500 / 2 * (p + 1)).int()\n",
        "            projected_points.append(p)\n",
        "\n",
        "        projected_points = torch.stack(projected_points)\n",
        "        loss = mse_loss(projected_points.float(), numpy_2d_points[step])\n",
        "        total_loss += loss\n",
        "\n",
        "    total_loss.backward()\n",
        "    optimizer.step()\n",
        "    optimizer.zero_grad()\n",
        "\n",
        "    if iteration % 100 == 0:\n",
        "        print(f\"Iteration {iteration}, Loss: {total_loss.item()}\")\n",
        "\n",
        "# Save the optimized parameters\n",
        "torch.save({'camera_pos': initial_camera_pos, 'target_pos': target_pos}, 'optimized_params.pth')"
      ],
      "metadata": {
        "execution": {
          "iopub.status.busy": "2024-07-25T18:21:28.264422Z",
          "iopub.execute_input": "2024-07-25T18:21:28.265298Z",
          "iopub.status.idle": "2024-07-25T18:21:29.151585Z",
          "shell.execute_reply.started": "2024-07-25T18:21:28.265262Z",
          "shell.execute_reply": "2024-07-25T18:21:29.149792Z"
        },
        "trusted": true,
        "collapsed": true,
        "id": "B8dSzfbrImOx"
      },
      "execution_count": null,
      "outputs": []
    },
    {
      "cell_type": "code",
      "source": [
        "# Visualize the optimized results (optimization using gradient descent)\n",
        "errors = []\n",
        "for step in range(num_steps):\n",
        "    alpha = step * 2 * np.pi / num_steps\n",
        "    camera_pos[0] = target_pos[0] + 5 * cos(alpha)  # x-coordinate\n",
        "    camera_pos[2] = target_pos[2] + 5 * sin(alpha)  # z-coordinate\n",
        "\n",
        "    view_matrix = look_at(camera_pos, target_pos, up_vector)\n",
        "    projected_points = []\n",
        "    for vertex in cube_vertices:\n",
        "        v = torch.tensor(vertex, dtype=torch.float32)\n",
        "        p = project_vertex(v, view_matrix)\n",
        "        p = (500 / 2 * (p + 1)).int()\n",
        "        projected_points.append(p)\n",
        "\n",
        "    projected_points = torch.stack(projected_points)\n",
        "    error = torch.norm(projected_points.float() - numpy_2d_points[step], dim=1)\n",
        "    errors.append(error)\n",
        "\n",
        "errors = torch.cat(errors).detach().numpy()\n",
        "mean_error = np.mean(errors)\n",
        "max_error = np.max(errors)\n",
        "\n",
        "print(f'Errors: {errors}')\n",
        "print(f'Mean Error: {mean_error}')\n",
        "print(f'Max Error: {max_error}')"
      ],
      "metadata": {
        "execution": {
          "iopub.status.busy": "2024-07-25T18:04:02.959056Z",
          "iopub.execute_input": "2024-07-25T18:04:02.960031Z",
          "iopub.status.idle": "2024-07-25T18:04:03.003335Z",
          "shell.execute_reply.started": "2024-07-25T18:04:02.959992Z",
          "shell.execute_reply": "2024-07-25T18:04:03.001859Z"
        },
        "trusted": true,
        "id": "-4n8uyZjImOy"
      },
      "execution_count": null,
      "outputs": []
    },
    {
      "cell_type": "code",
      "source": [
        "# Visualize the errors\n",
        "plt.plot(errors)\n",
        "plt.title('Errors for Each Frame')\n",
        "plt.xlabel('Frame')\n",
        "plt.ylabel('Error')\n",
        "plt.show()"
      ],
      "metadata": {
        "id": "RlkPwPT-ImOy"
      },
      "execution_count": null,
      "outputs": []
    }
  ]
}